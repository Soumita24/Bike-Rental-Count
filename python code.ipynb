{
  "nbformat": 4,
  "nbformat_minor": 0,
  "metadata": {
    "colab": {
      "name": "Final Bike.ipynb",
      "provenance": [],
      "collapsed_sections": [
        "1SIX0p_HLb8V",
        "Gbh2Rhyy5DiD",
        "LJ7-BRhb9RD2",
        "rAxG5_L4R6ph",
        "lOnT9kn9O1II"
      ],
      "toc_visible": true
    },
    "kernelspec": {
      "name": "python3",
      "display_name": "Python 3"
    },
    "language_info": {
      "name": "python"
    }
  },
  "cells": [
    {
      "cell_type": "code",
      "execution_count": null,
      "metadata": {
        "id": "OdbPr5-t62jj"
      },
      "outputs": [],
      "source": [
        "#Importing required packages\n",
        "import numpy as np\n",
        "import pandas as pd\n",
        "import matplotlib.pyplot as plt\n",
        "import seaborn as sns\n",
        "import statsmodels.api as sm\n",
        "import statsmodels.formula.api as smf\n",
        "\n",
        "# Ignore  the warnings\n",
        "import warnings\n",
        "warnings.filterwarnings('ignore')\n",
        "sns.set_style(\"whitegrid\")"
      ]
    },
    {
      "cell_type": "markdown",
      "source": [
        "# Dataset overview"
      ],
      "metadata": {
        "id": "1SIX0p_HLb8V"
      }
    },
    {
      "cell_type": "markdown",
      "source": [
        "##Load the dataset"
      ],
      "metadata": {
        "id": "0UB8kdCWLe69"
      }
    },
    {
      "cell_type": "code",
      "source": [
        "# Read the data\n",
        "day = pd.read_csv('sample_data/day.csv', parse_dates=True, index_col='dteday')\n",
        "hour = pd.read_csv('sample_data/hour.csv', parse_dates=True, index_col='dteday')"
      ],
      "metadata": {
        "id": "QfzRWe3-LbsF"
      },
      "execution_count": null,
      "outputs": []
    },
    {
      "cell_type": "markdown",
      "source": [
        "## Shape of data"
      ],
      "metadata": {
        "id": "aLgPhveCMFQ4"
      }
    },
    {
      "cell_type": "code",
      "source": [
        "print('Shape of data: ', day.shape)\n",
        "print('Shape of data: ', hour.shape)"
      ],
      "metadata": {
        "id": "oO9HN36xMDnP"
      },
      "execution_count": null,
      "outputs": []
    },
    {
      "cell_type": "markdown",
      "source": [
        "##First few obsevations"
      ],
      "metadata": {
        "id": "OZeDnU8SMRAP"
      }
    },
    {
      "cell_type": "code",
      "source": [
        "day.head()"
      ],
      "metadata": {
        "id": "OCCOE79CMYX3"
      },
      "execution_count": null,
      "outputs": []
    },
    {
      "cell_type": "code",
      "source": [
        "hour.head()"
      ],
      "metadata": {
        "id": "xbg3meSdMbLC"
      },
      "execution_count": null,
      "outputs": []
    },
    {
      "cell_type": "markdown",
      "source": [
        "##Feature Data Types"
      ],
      "metadata": {
        "id": "E1qP-bsoM59J"
      }
    },
    {
      "cell_type": "code",
      "source": [
        "day.info()"
      ],
      "metadata": {
        "id": "ewfxepjZM7AC"
      },
      "execution_count": null,
      "outputs": []
    },
    {
      "cell_type": "code",
      "source": [
        "hour.info()"
      ],
      "metadata": {
        "id": "e6vrUQYTM90B"
      },
      "execution_count": null,
      "outputs": []
    },
    {
      "cell_type": "markdown",
      "source": [
        "## Feature Statistics Summary"
      ],
      "metadata": {
        "id": "f_BP8pT2NDsx"
      }
    },
    {
      "cell_type": "code",
      "source": [
        "day.describe()"
      ],
      "metadata": {
        "id": "koASULLmNE6J"
      },
      "execution_count": null,
      "outputs": []
    },
    {
      "cell_type": "code",
      "source": [
        "hour.describe()"
      ],
      "metadata": {
        "id": "4IRWYgNONIkx"
      },
      "execution_count": null,
      "outputs": []
    },
    {
      "cell_type": "markdown",
      "source": [
        "## Looking for Missing Data fields"
      ],
      "metadata": {
        "id": "lTSEuPMLNL6T"
      }
    },
    {
      "cell_type": "code",
      "source": [
        "day.isnull().sum()"
      ],
      "metadata": {
        "id": "k7IgTRR7NRdy"
      },
      "execution_count": null,
      "outputs": []
    },
    {
      "cell_type": "code",
      "source": [
        "hour.isnull().sum()"
      ],
      "metadata": {
        "id": "nOdqNAUpNVWv"
      },
      "execution_count": null,
      "outputs": []
    },
    {
      "cell_type": "markdown",
      "source": [
        "## Renaming columns into readable names and adding weekday names"
      ],
      "metadata": {
        "id": "M-aS7QIuk91g"
      }
    },
    {
      "cell_type": "code",
      "source": [
        "#renaming columns into readable names and adding weekday names\n",
        "day.rename(columns = {'yr':'year', 'mnth':'month', 'weathersit':'weather', 'hum':'humidity', 'cnt':'count'}, inplace = True)\n",
        "hour.rename(columns = {'yr':'year', 'hr':'hour', 'mnth':'month', 'weathersit':'weather', 'hum':'humidity', 'cnt':'count'}, inplace = True)\n",
        "day.index.names = ['date']\n",
        "hour.index.names = ['date']\n",
        "day['dayname']=day.index.day_name()\n",
        "hour['dayname']=hour.index.day_name()"
      ],
      "metadata": {
        "id": "ZTb9US-HQb9i"
      },
      "execution_count": null,
      "outputs": []
    },
    {
      "cell_type": "markdown",
      "source": [
        "## Categorical data conversion"
      ],
      "metadata": {
        "id": "2l8UrVe7NgZb"
      }
    },
    {
      "cell_type": "code",
      "source": [
        "# Converting into categorical data\n",
        "category_list = ['weekday', 'season', 'holiday', 'workingday', 'weather']\n",
        "for var in category_list:\n",
        "    day[var] = day[var].astype('category')\n",
        "    hour[var] = hour[var].astype('category')"
      ],
      "metadata": {
        "id": "Ii3gh5QJNnCP"
      },
      "execution_count": null,
      "outputs": []
    },
    {
      "cell_type": "markdown",
      "source": [
        "Un-normalising temp, atemp, humidity and windspeed columns"
      ],
      "metadata": {
        "id": "GzGfroncbzcg"
      }
    },
    {
      "cell_type": "code",
      "source": [
        "day['temp']=day['temp']*41\n",
        "hour['temp']=hour['temp']*41\n",
        "day['atemp']=day['atemp']*50\n",
        "hour['atemp']=hour['atemp']*50\n",
        "day['humidity']=day['humidity']*100\n",
        "hour['humidity']=hour['humidity']*100\n",
        "day['windspeed']=day['windspeed']*67\n",
        "hour['windspeed']=hour['windspeed']*67"
      ],
      "metadata": {
        "id": "xP0x40kGcBRB"
      },
      "execution_count": null,
      "outputs": []
    },
    {
      "cell_type": "markdown",
      "source": [
        "# EDA"
      ],
      "metadata": {
        "id": "CMXhmFZuNaga"
      }
    },
    {
      "cell_type": "markdown",
      "source": [
        "## Count vs. Weather, Season, Working Day, Holiday"
      ],
      "metadata": {
        "id": "v_5fQhDJPClV"
      }
    },
    {
      "cell_type": "code",
      "source": [
        "# Average values across each of the categorical columns \n",
        "sns.set_palette('plasma')\n",
        "fig = plt.figure(figsize=(17, 12))\n",
        "axes = fig.add_subplot(2, 2, 1)\n",
        "grp_weather = pd.DataFrame(day.groupby(['weather'])['count'].mean()).reset_index()\n",
        "sns.barplot(x='weather', y='count',data=grp_weather,  ax=axes)\n",
        "axes.set(xlabel='Weather', ylabel='Count', title='Average bike rentals across Weather')\n",
        "\n",
        "axes = fig.add_subplot(2, 2, 2)\n",
        "grp_season = pd.DataFrame(day.groupby(['season'])['count'].mean()).reset_index()\n",
        "sns.barplot(x='season', y='count',data=grp_season,  ax=axes)\n",
        "axes.set(xlabel='Season', ylabel='Count', title='Average bike rentals across Seasons')\n",
        "\n",
        "axes = fig.add_subplot(2, 2, 3)\n",
        "grp_workingday = pd.DataFrame(day.groupby(['workingday'])['count'].mean()).reset_index()\n",
        "sns.barplot(x='workingday', y='count',data=grp_workingday,  ax=axes)\n",
        "axes.set(xlabel='Working Day', ylabel='Count', title='Average bike rentals across Working Day')\n",
        "\n",
        "axes = fig.add_subplot(2, 2, 4)\n",
        "grp_season = pd.DataFrame(day.groupby(['holiday'])['count'].mean()).reset_index()\n",
        "sns.barplot(x='holiday', y='count',data=grp_season,  ax=axes)\n",
        "axes.set(xlabel='Holiday', ylabel='Count', title='Average bike rentals across Holiday')\n",
        "\n",
        "plt.show()"
      ],
      "metadata": {
        "id": "kROfAI-RPF2v"
      },
      "execution_count": null,
      "outputs": []
    },
    {
      "cell_type": "markdown",
      "source": [
        "## Number of bikes rented vs. the temperature"
      ],
      "metadata": {
        "id": "70icGbvFU_MN"
      }
    },
    {
      "cell_type": "code",
      "source": [
        "# Splitting data into working-day and non-working day\n",
        "fig = plt.figure(figsize=(17, 12))\n",
        "day_w = day[day.workingday==1]\n",
        "day_nw = day[day.workingday==0]\n",
        "bin_size=4\n",
        "fig = plt.figure(figsize=(18, 6))\n",
        "\n",
        "axes = fig.add_subplot(1, 2, 1)\n",
        "day_w['temp_round']= day_w['temp']//bin_size\n",
        "sns.barplot(x='temp_round', y='count', data=day_w, palette='winter')\n",
        "plt.xlabel('temp bins')\n",
        "plt.ylabel('Count')\n",
        "plt.title('Working Days: Count given across temperature range')\n",
        "labels_w = [str(bin_size*i)+' to '+str(bin_size*(i+1)) for i in range(int(max(day_w['temp_round'])+1))]\n",
        "plt.xticks(np.arange(min(day_w['temp_round']), max(day_w['temp_round'])+1),\n",
        "          labels_w, rotation=90 )\n",
        "\n",
        "axes = fig.add_subplot(1, 2, 2)\n",
        "day_nw['temp_round']= day_nw['temp']//bin_size\n",
        "sns.barplot(x='temp_round', y='count', data=day_nw, palette='winter')\n",
        "plt.xlabel('temp bins')\n",
        "plt.ylabel('Count')\n",
        "plt.title('Non Working Days: Count given across temperature range')\n",
        "labels_nw = [str(bin_size*i)+' to '+str(bin_size*(i+1)) for i in range(int(max(day_nw['temp_round'])+1))]\n",
        "plt.xticks(np.arange(min(day_nw['temp_round']), max(day_nw['temp_round'])+1),\n",
        "          labels_nw, rotation=90 )\n",
        "\n",
        "plt.show()"
      ],
      "metadata": {
        "id": "rHD7Kw-xVBHX"
      },
      "execution_count": null,
      "outputs": []
    },
    {
      "cell_type": "markdown",
      "source": [
        "There is a steady increase in the average bikes rented with temperature with a small decrease at the highest temperature bin"
      ],
      "metadata": {
        "id": "hrp_B82YhWxi"
      }
    },
    {
      "cell_type": "markdown",
      "source": [
        "## Hourly Distribution"
      ],
      "metadata": {
        "id": "m9Iwyp4GfZ3H"
      }
    },
    {
      "cell_type": "code",
      "source": [
        "sns.set_palette('gnuplot2')\n",
        "_, axes = plt.subplots(nrows=1, ncols=1, figsize=(17, 8))\n",
        "sns.pointplot(x='hour', y='count', data=hour, hue='dayname', legend=True)\n",
        "plt.xlabel('Hour in the day')\n",
        "plt.ylabel('Count')\n",
        "plt.title('Average Bike Rentals by the day across Weekdays')\n",
        "\n",
        "plt.show()\n"
      ],
      "metadata": {
        "id": "VmX6Yg1gfdSi"
      },
      "execution_count": null,
      "outputs": []
    },
    {
      "cell_type": "markdown",
      "source": [
        "## Monthly Distribution"
      ],
      "metadata": {
        "id": "a2aEEPiohM5-"
      }
    },
    {
      "cell_type": "code",
      "source": [
        "# Average Monthly Count Distribution plot\n",
        "_, axes = plt.subplots(nrows=1, ncols=1, figsize=(17, 6))\n",
        "\n",
        "sns.barplot(data=day, x='month', y='count', hue='workingday', ax=axes)\n",
        "axes.set(xlabel='Month', ylabel='Count', title='Average bike rentals per Month')\n",
        "handles, _ = axes.get_legend_handles_labels()\n",
        "axes.legend(handles, ['Not a Working Day', 'Working Day'])\n",
        "plt.show()"
      ],
      "metadata": {
        "id": "m666R4u7hRgY"
      },
      "execution_count": null,
      "outputs": []
    },
    {
      "cell_type": "code",
      "source": [
        "data = day.groupby(by= 'month')['count'].mean()\n",
        "plt.figure(figsize=(8,5))\n",
        "density = sns.barplot(x=data.index, y=data.values)\n",
        "title = plt.title('Average rental count vs month', fontdict={'fontsize': 20})\n",
        "plt.xlabel('Month')\n",
        "plt.ylabel('Avg Rental count')\n",
        "plt.show()"
      ],
      "metadata": {
        "id": "ZiFynsZtu7Ch"
      },
      "execution_count": null,
      "outputs": []
    },
    {
      "cell_type": "code",
      "source": [
        "_,ax=plt.subplots(figsize=(15,8))\n",
        "#Bar plot for seasonwise monthly distribution of counts\n",
        "sns.barplot(x='month',y='count',data=hour,hue='season',ax=ax)\n",
        "ax.set_title('Seasonwise monthly distribution of counts')\n",
        "plt.show()"
      ],
      "metadata": {
        "id": "QVQ5IpCAh1aE"
      },
      "execution_count": null,
      "outputs": []
    },
    {
      "cell_type": "markdown",
      "source": [
        "## Yearly Distribution"
      ],
      "metadata": {
        "id": "FBDWJTCLhx8e"
      }
    },
    {
      "cell_type": "code",
      "source": [
        "fig,ax=plt.subplots(figsize=(15,8))\n",
        "#Violin plot for yearly distribution of counts\n",
        "sns.violinplot(x='year',y='count',data=day)\n",
        "ax.set_title('Yearly distribution of counts')\n",
        "plt.show()"
      ],
      "metadata": {
        "id": "2whUcyGa3fNB"
      },
      "execution_count": null,
      "outputs": []
    },
    {
      "cell_type": "markdown",
      "source": [
        "## Regression Plots"
      ],
      "metadata": {
        "id": "7Bf4Z3VK3tnZ"
      }
    },
    {
      "cell_type": "code",
      "source": [
        "# Regression Plots with respect to Temperature, Humidity and Windspeed\n",
        "fig = plt.figure(figsize=(17, 7))\n",
        "axes = fig.add_subplot(1, 3, 1)\n",
        "sns.regplot(x='temp', y='count', data=hour, ax=axes, color='C1')\n",
        "axes.set(title='Reg Plot for Temperature vs. Count')\n",
        "axes = fig.add_subplot(1, 3, 2)\n",
        "sns.regplot(x='humidity', y='count', data=hour, ax=axes, color='C2')\n",
        "axes.set(title='Reg Plot for Humidity vs. Count')\n",
        "axes = fig.add_subplot(1, 3, 3)\n",
        "sns.regplot(x='windspeed', y='count', data=hour, ax=axes, color='C3')\n",
        "axes.set(title='Reg Plot for Windspeed vs. Count')\n",
        "plt.show()"
      ],
      "metadata": {
        "id": "gqH5Evi73usH"
      },
      "execution_count": null,
      "outputs": []
    },
    {
      "cell_type": "markdown",
      "source": [
        "## Correlation Analysis"
      ],
      "metadata": {
        "id": "oDLWXgDb4nNC"
      }
    },
    {
      "cell_type": "code",
      "source": [
        "# Heatmap relative to all numeric columns\n",
        "corr_matrix = hour[[\"temp\",\"atemp\",\"humidity\",\"windspeed\",\"casual\",\"registered\",\"count\"]].corr()\n",
        "mask=np.array(corr_matrix)\n",
        "mask[np.tril_indices_from(mask)]=False\n",
        "fig = plt.figure(figsize=(10, 8))\n",
        "sns.heatmap(corr_matrix, mask= mask, cmap='YlGnBu', annot=True, vmin=-1)\n",
        "plt.show()"
      ],
      "metadata": {
        "id": "ufI_9a924oGW"
      },
      "execution_count": null,
      "outputs": []
    },
    {
      "cell_type": "markdown",
      "source": [
        "# Time Series Analysis"
      ],
      "metadata": {
        "id": "Gbh2Rhyy5DiD"
      }
    },
    {
      "cell_type": "markdown",
      "source": [
        "## Seasonal Decompose and Test for Stationarity"
      ],
      "metadata": {
        "id": "fRZaHYe0vh9X"
      }
    },
    {
      "cell_type": "code",
      "source": [
        "#seasonal_decompose on hour dataset\n",
        "from statsmodels.tsa.seasonal import seasonal_decompose\n",
        "df=hour['count']\n",
        "df.head()\n",
        "decompose_result = seasonal_decompose(df, model=\"multiplicative\", period=24, extrapolate_trend='freq')\n",
        "trend = decompose_result.trend\n",
        "seasonal = decompose_result.seasonal\n",
        "residual = decompose_result.resid\n",
        "\n",
        "\n",
        "fig= decompose_result.plot()\n",
        "fig.set_size_inches((10, 7))"
      ],
      "metadata": {
        "id": "0XaETU-oURTk"
      },
      "execution_count": null,
      "outputs": []
    },
    {
      "cell_type": "code",
      "source": [
        "# Dickey Fuller test for stationarity: hour data\n",
        "from statsmodels.tsa.stattools import adfuller\n",
        "X = hour['count']\n",
        "result = adfuller(X, autolag='AIC')\n",
        "print(result)\n",
        "print('ADF Statistic: %f' % result[0])\n",
        "print('p-value: %f' % result[1])\n",
        "print('Critical Values:')\n",
        "for key, value in result[4].items():\n",
        "\tprint('\\t%s: %.3f' % (key, value))\n",
        "if result[0] > result[4][\"5%\"]:\n",
        "    print (\"Time Series is Stationary\")\n",
        "else:\n",
        "    print (\"Time Series is Stationary\")"
      ],
      "metadata": {
        "id": "8AcNWn3V24is"
      },
      "execution_count": null,
      "outputs": []
    },
    {
      "cell_type": "code",
      "source": [
        "# Dickey Fuller test for stationarity: deseasonalized hour data\n",
        "deseasonalized=hour['count']/seasonal\n",
        "X = deseasonalized\n",
        "result = adfuller(X, autolag='AIC')\n",
        "print(result)\n",
        "print('ADF Statistic: %f' % result[0])\n",
        "print('p-value: %f' % result[1])\n",
        "print('Critical Values:')\n",
        "for key, value in result[4].items():\n",
        "\tprint('\\t%s: %.3f' % (key, value))\n",
        "if result[0] > result[4][\"5%\"]:\n",
        "    print (\"Time Series is Stationary\")\n",
        "else:\n",
        "    print (\"Time Series is Stationary\")"
      ],
      "metadata": {
        "id": "cSNtfzkr0fJC"
      },
      "execution_count": null,
      "outputs": []
    },
    {
      "cell_type": "code",
      "source": [
        "# Dickey Fuller test for stationarity: residual for hour data\n",
        "X = residual\n",
        "result = adfuller(X, autolag='AIC')\n",
        "print(result)\n",
        "print('ADF Statistic: %f' % result[0])\n",
        "print('p-value: %f' % result[1])\n",
        "print('Critical Values:')\n",
        "for key, value in result[4].items():\n",
        "\tprint('\\t%s: %.3f' % (key, value))\n",
        "if result[0] > result[4][\"5%\"]:\n",
        "    print (\"Time Series is Stationary\")\n",
        "else:\n",
        "    print (\"Time Series is Stationary\")"
      ],
      "metadata": {
        "id": "gmv7I710Ie8H"
      },
      "execution_count": null,
      "outputs": []
    },
    {
      "cell_type": "code",
      "source": [
        "#seasonal_decompose on day dataset\n",
        "from statsmodels.tsa.seasonal import seasonal_decompose\n",
        "df=day['count']\n",
        "decompose_result = seasonal_decompose(df, model=\"multiplicative\",period = 24, extrapolate_trend='freq')\n",
        "trend = decompose_result.trend\n",
        "seasonal = decompose_result.seasonal\n",
        "residual = decompose_result.resid\n",
        "\n",
        "\n",
        "fig= decompose_result.plot()\n",
        "fig.set_size_inches((10, 7))"
      ],
      "metadata": {
        "id": "VkPQFZaVZUaC"
      },
      "execution_count": null,
      "outputs": []
    },
    {
      "cell_type": "code",
      "source": [
        "# Dickey Fuller test for stationarity: residual for day data\n",
        "from statsmodels.tsa.stattools import adfuller\n",
        "X = residual\n",
        "result = adfuller(X, autolag='AIC')\n",
        "print(result)\n",
        "print('ADF Statistic: %f' % result[0])\n",
        "print('p-value: %f' % result[1])\n",
        "print('Critical Values:')\n",
        "for key, value in result[4].items():\n",
        "\tprint('\\t%s: %.3f' % (key, value))\n",
        "if result[0] > result[4][\"5%\"]:\n",
        "    print (\"Time Series is Stationary\")\n",
        "else:\n",
        "    print (\"Time Series is Stationary\")"
      ],
      "metadata": {
        "id": "SDYXPGErZuWL"
      },
      "execution_count": null,
      "outputs": []
    },
    {
      "cell_type": "markdown",
      "source": [
        "# OLS Model Fitting"
      ],
      "metadata": {
        "id": "LJ7-BRhb9RD2"
      }
    },
    {
      "cell_type": "markdown",
      "source": [
        "## Model Fitting\n"
      ],
      "metadata": {
        "id": "di_VdIij7Wgr"
      }
    },
    {
      "cell_type": "code",
      "source": [
        "#Combining date and time columns to create unique indices and preserve hour data\n",
        "hour=hour.reset_index()\n",
        "hour['date']=pd.to_datetime(hour.date) + pd.to_timedelta(hour.hour, unit='h')\n",
        "hour=hour.set_index('date')"
      ],
      "metadata": {
        "id": "JMb7r66R9JWf"
      },
      "execution_count": null,
      "outputs": []
    },
    {
      "cell_type": "code",
      "source": [
        "hour_ols= hour.drop(['instant', 'year', 'month', 'hour', 'casual', 'registered', 'dayname'], axis=1)\n",
        "day = day.drop(['instant', 'year', 'month', 'casual', 'registered', 'dayname'], axis=1)"
      ],
      "metadata": {
        "id": "gw5OH4dXa6Wb"
      },
      "execution_count": null,
      "outputs": []
    },
    {
      "cell_type": "markdown",
      "source": [
        "### Correlation among Categorical variables"
      ],
      "metadata": {
        "id": "v6ZbPFpYs7-G"
      }
    },
    {
      "cell_type": "code",
      "source": [
        "data=day.drop(['atemp', 'temp', 'humidity', 'windspeed', 'count'], axis=1)"
      ],
      "metadata": {
        "id": "JgEW0F_SwJt0"
      },
      "execution_count": null,
      "outputs": []
    },
    {
      "cell_type": "code",
      "source": [
        "from sklearn import preprocessing\n",
        "\n",
        "label = preprocessing.LabelEncoder()\n",
        "data_encoded = pd.DataFrame() \n",
        "\n",
        "for i in data.columns :\n",
        "  data_encoded[i]=label.fit_transform(data[i])\n",
        "\n",
        "data_encoded.head()"
      ],
      "metadata": {
        "id": "irbUfXritNjH"
      },
      "execution_count": null,
      "outputs": []
    },
    {
      "cell_type": "code",
      "source": [
        "# Building of the Cramer's V function\n",
        "from scipy.stats import chi2_contingency\n",
        "\n",
        "def cramers_V(v1,v2) :\n",
        "  crosstab =np.array(pd.crosstab(v1,v2, rownames=None, colnames=None)) # Cross table building\n",
        "  stat = chi2_contingency(crosstab)[0] # Keeping of the test statistic of the Chi2 test\n",
        "  obs = np.sum(crosstab) # Number of observations\n",
        "  mini = min(crosstab.shape)-1 # Take the minimum value between the columns and the rows of the cross table\n",
        "  return np.sqrt(stat/(obs*mini))"
      ],
      "metadata": {
        "id": "6b7Hs-BWxOIf"
      },
      "execution_count": null,
      "outputs": []
    },
    {
      "cell_type": "code",
      "source": [
        "# Building of the matrix\n",
        "rows= []\n",
        "\n",
        "for v1 in data_encoded:\n",
        "  col = []\n",
        "  for v2 in data_encoded :\n",
        "    cramers =cramers_V(data_encoded[v1], data_encoded[v2]) # Cramer's V test\n",
        "    col.append(round(cramers,2)) # Keeping of the rounded value of the Cramer's V  \n",
        "  rows.append(col)\n",
        "  \n",
        "cramers_results = np.array(rows)\n",
        "df = pd.DataFrame(cramers_results, columns = data_encoded.columns, index =data_encoded.columns)\n",
        "\n",
        "df"
      ],
      "metadata": {
        "id": "bAvyIZDRxXxe"
      },
      "execution_count": null,
      "outputs": []
    },
    {
      "cell_type": "markdown",
      "source": [
        "Weekday and workingday variables have high correlation.So we need to drop one. We drop weekday variable as it would produce 6 dummy variables and hence increase the number of regressors which in turn would lessen the degrees of freedom and increase the SSE"
      ],
      "metadata": {
        "id": "_Ss_3xtJTnCI"
      }
    },
    {
      "cell_type": "code",
      "source": [
        "day_ols=day.drop('weekday', axis=1)"
      ],
      "metadata": {
        "id": "t2x77UgUV21d"
      },
      "execution_count": null,
      "outputs": []
    },
    {
      "cell_type": "markdown",
      "source": [
        "### Removing Multicollinearity"
      ],
      "metadata": {
        "id": "P3v8O_d7kLTz"
      }
    },
    {
      "cell_type": "code",
      "source": [
        "X=day_ols[['atemp', 'temp', 'humidity', 'windspeed']]\n",
        "Xc=sm.add_constant(X)\n",
        "y = day_ols['count']\n",
        "model1 = sm.OLS(y, Xc).fit()\n",
        "print(model1.summary())"
      ],
      "metadata": {
        "id": "QdJOnAzflEBb"
      },
      "execution_count": null,
      "outputs": []
    },
    {
      "cell_type": "markdown",
      "source": [
        "![image.png](data:image/png;base64,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)"
      ],
      "metadata": {
        "id": "divJr5OGhzMs"
      }
    },
    {
      "cell_type": "markdown",
      "source": [
        "![image.png](data:image/png;base64,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)"
      ],
      "metadata": {
        "id": "q4DEYk7ahhdg"
      }
    },
    {
      "cell_type": "markdown",
      "source": [
        " \n",
        "\n",
        "*   Here atemp has the highest VIFs in the  subset (atemp,temp) and are involved in multicollinearity.\n",
        "*   We remove atemp and again fit the model ."
      ],
      "metadata": {
        "id": "CA6sCjeBiAdV"
      }
    },
    {
      "cell_type": "code",
      "source": [
        "X=day_ols[['temp', 'humidity', 'windspeed']]\n",
        "Xc=sm.add_constant(X)\n",
        "y = day_ols['count']\n",
        "model2 = sm.OLS(y, Xc).fit()\n",
        "print(model2.summary())"
      ],
      "metadata": {
        "id": "hVuKpb-biUy9"
      },
      "execution_count": null,
      "outputs": []
    },
    {
      "cell_type": "markdown",
      "source": [
        "![image.png](data:image/png;base64,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)"
      ],
      "metadata": {
        "id": "CmqNdjRRk97B"
      }
    },
    {
      "cell_type": "markdown",
      "source": [
        "![image.png](data:image/png;base64,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)"
      ],
      "metadata": {
        "id": "q0xWpEnSlsEj"
      }
    },
    {
      "cell_type": "markdown",
      "source": [
        "All VIFs less than 5. No multicollinearity."
      ],
      "metadata": {
        "id": "qKwv63lgjxY4"
      }
    },
    {
      "cell_type": "code",
      "source": [
        "day_ols=day_ols.drop('atemp', axis=1)"
      ],
      "metadata": {
        "id": "Geq1NH-rwYDv"
      },
      "execution_count": null,
      "outputs": []
    },
    {
      "cell_type": "markdown",
      "source": [
        "### Outlier Detection: Leverage and Influential Points"
      ],
      "metadata": {
        "id": "GTGVXapUIDv3"
      }
    },
    {
      "cell_type": "code",
      "source": [
        "day_ols = pd.get_dummies(day_ols, columns=['season','holiday','workingday','weather'], drop_first=True)\n",
        "hour_ols = pd.get_dummies(hour_ols, columns=['season','holiday','workingday','weather'], drop_first=True)"
      ],
      "metadata": {
        "id": "zMaoMXIqcviO"
      },
      "execution_count": null,
      "outputs": []
    },
    {
      "cell_type": "code",
      "source": [
        "# Create a training and test split for hour data\n",
        "X=hour_ols.drop('count',axis=1)\n",
        "y = hour_ols['count']\n",
        "X_train = X['2011-01-01 00:00:00':'2012-08-07 10:00:00']\n",
        "X_test = X['2012-08-07 11:00:00':'2012-12-31 23:00:00']\n",
        "y_train = y['2011-01-01 00:00:00':'2012-08-07 10:00:00']\n",
        "#y_test = y.drop(y_train.index, inplace=True)\n",
        "y_test = y['2012-08-07 11:00:00':'2012-12-31 23:00:00']"
      ],
      "metadata": {
        "id": "ZX_v91lX2jNT"
      },
      "execution_count": null,
      "outputs": []
    },
    {
      "cell_type": "code",
      "source": [
        "Xc=sm.add_constant(X_train)\n",
        "model = sm.OLS(y_train, Xc).fit()\n",
        "print(model.summary())"
      ],
      "metadata": {
        "id": "7hhI0D0xJFXI"
      },
      "execution_count": null,
      "outputs": []
    },
    {
      "cell_type": "code",
      "source": [
        "# Create a training and test split for day data\n",
        "X = day_ols.drop('count',axis=1)\n",
        "y = day_ols['count']\n",
        "X_train = X['2011-01-01':'2012-08-06']\n",
        "X_test = X['2012-08-07':'2012-12-31']\n",
        "y_train = y['2011-01-01':'2012-08-06']\n",
        "#y_test = y.drop(y_train.index, inplace=True)\n",
        "y_test = y['2012-08-07':'2012-12-31']"
      ],
      "metadata": {
        "id": "0bG-G4dt3Biw"
      },
      "execution_count": null,
      "outputs": []
    },
    {
      "cell_type": "code",
      "source": [
        "Xc=sm.add_constant(X_train)\n",
        "model3 = sm.OLS(y_train, Xc).fit()\n",
        "print(model3.summary())"
      ],
      "metadata": {
        "id": "txZ8wXpP3bD8"
      },
      "execution_count": null,
      "outputs": []
    },
    {
      "cell_type": "code",
      "source": [
        "# Getting Cook's Distance for each point\n",
        "influence = model3.get_influence()\n",
        "influence_list = influence.cooks_distance[0]\n",
        "influence_df = pd.DataFrame(influence_list, columns=[\"influence\"])\n",
        "influence_df.index = X_train.index\n",
        "data=X_train\n",
        "data['count']=y_train\n",
        "cooks_df = data.merge(influence_df, left_index=True, right_index=True)"
      ],
      "metadata": {
        "id": "n-KeR4kpwfoy"
      },
      "execution_count": null,
      "outputs": []
    },
    {
      "cell_type": "code",
      "source": [
        "# Setting the threshold and getting the outliers\n",
        "cooks_threshold = 4/584\n",
        "cooks_outliers = cooks_df[cooks_df[\"influence\"] > cooks_threshold]\n",
        "cooks_df.drop(cooks_outliers.index, inplace=True)\n",
        "print(\"Removed:\", len(cooks_outliers))\n",
        "print(f\"This is {len(cooks_outliers) / 584 * 100:.3}% of our dataset\")"
      ],
      "metadata": {
        "id": "bkXhBNosxPTv"
      },
      "execution_count": null,
      "outputs": []
    },
    {
      "cell_type": "code",
      "source": [
        "X_train=cooks_df.drop(['count', 'influence'], axis=1)\n",
        "y_train=cooks_df['count']"
      ],
      "metadata": {
        "id": "xYbQ93rAGL32"
      },
      "execution_count": null,
      "outputs": []
    },
    {
      "cell_type": "code",
      "source": [
        "Xc=sm.add_constant(X_train)\n",
        "model4 = sm.OLS(y_train, Xc).fit()\n",
        "print(model4.summary())"
      ],
      "metadata": {
        "id": "8PHgJuwvHSsq"
      },
      "execution_count": null,
      "outputs": []
    },
    {
      "cell_type": "markdown",
      "source": [
        "### Normality Test of Errors"
      ],
      "metadata": {
        "id": "BhbyKenV_QDS"
      }
    },
    {
      "cell_type": "code",
      "source": [
        "import scipy.stats as stats\n",
        "sm.qqplot(model4.resid,line='45',fit=True,dist=stats.norm)\n",
        "plt.show()"
      ],
      "metadata": {
        "id": "8n0WH8W3_l-M"
      },
      "execution_count": null,
      "outputs": []
    },
    {
      "cell_type": "code",
      "source": [
        "#Histogram approach of normality checking\n",
        "_, bins, _ = plt.hist(model4.resid,density=1,alpha=0.5,ec='k')\n",
        "plt.xlabel('Residuals')\n",
        "mu, sigma = stats.norm.fit(model4.resid)\n",
        "best_fit_line = stats.norm.pdf(bins, mu, sigma)\n",
        "plt.plot(bins, best_fit_line)\n"
      ],
      "metadata": {
        "id": "HRLLE7npqX7h"
      },
      "execution_count": null,
      "outputs": []
    },
    {
      "cell_type": "code",
      "source": [
        "from scipy.stats import shapiro\n",
        "stat, p = shapiro(model4.resid)\n",
        "print(f\"shapiro statistic: {stat}\")\n",
        "print(f\"p-value: {p}\")"
      ],
      "metadata": {
        "id": "IhPt0yI-By0J"
      },
      "execution_count": null,
      "outputs": []
    },
    {
      "cell_type": "code",
      "source": [
        "from scipy import stats\n",
        "fitted_data, lmbda = stats.boxcox(y_train)\n",
        "Xc=sm.add_constant(X_train)\n",
        "model5= sm.OLS(fitted_data,Xc).fit()\n",
        "print(model5.summary())"
      ],
      "metadata": {
        "id": "gtQ1XwQK3idm"
      },
      "execution_count": null,
      "outputs": []
    },
    {
      "cell_type": "markdown",
      "source": [
        "### Homoscedasticity of errors"
      ],
      "metadata": {
        "id": "sAmvVjEyRMqV"
      }
    },
    {
      "cell_type": "code",
      "source": [
        "dataframe=pd.concat([X_train,y_train],axis=1)\n",
        "model_fitted_Y = model5.fittedvalues\n",
        "model_residuals = model5.resid # model residuals"
      ],
      "metadata": {
        "id": "zhupwVSridjU"
      },
      "execution_count": null,
      "outputs": []
    },
    {
      "cell_type": "code",
      "source": [
        "#Residual vs Fitted Plot\n",
        "plot_1 = plt.figure()\n",
        "plot_1.axes[0] = sns.residplot(model_fitted_Y,dataframe.columns[-1],data=dataframe, lowess=True,\n",
        "                 scatter_kws={'alpha': 0.5}, line_kws={'color': 'red', 'lw': 1, 'alpha': 0.8})\n",
        "plot_1.axes[0].set_title('Residuals vs Fitted')\n",
        "plot_1.axes[0].set_xlabel('Fitted values')\n",
        "plot_1.axes[0].set_ylabel('Residuals')"
      ],
      "metadata": {
        "id": "XkxbOG4_t_yh"
      },
      "execution_count": null,
      "outputs": []
    },
    {
      "cell_type": "code",
      "source": [
        "#from statsmodels.compat import lzip\n",
        "import statsmodels.stats.api as sms\n",
        "#perform Bresuch-Pagan test\n",
        "names = ['Lagrange multiplier statistic', 'p-value',\n",
        "        'f-value', 'f p-value']\n",
        "test = sms.het_breuschpagan(model5.resid, model5.model.exog)\n",
        "if test[1]<0.05:\n",
        "  print('Homoscedasticiy is not present')\n",
        "else:\n",
        "  print('Homoscedasticiy is present')\n",
        "\n",
        "#lzip(names, test)"
      ],
      "metadata": {
        "id": "RP99MymteO14"
      },
      "execution_count": null,
      "outputs": []
    },
    {
      "cell_type": "markdown",
      "source": [
        "### Variable Selection"
      ],
      "metadata": {
        "id": "3R4ARoTujYIj"
      }
    },
    {
      "cell_type": "markdown",
      "source": [
        "![image.png](data:image/png;base64,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)"
      ],
      "metadata": {
        "id": "JYFv7xoRNLjD"
      }
    },
    {
      "cell_type": "code",
      "source": [
        "day_ols=day_ols.drop(['workingday_1'], axis=1)"
      ],
      "metadata": {
        "id": "aYGcQFdjs7Fj"
      },
      "execution_count": null,
      "outputs": []
    },
    {
      "cell_type": "markdown",
      "source": [
        "### HAC robust MLR Model"
      ],
      "metadata": {
        "id": "jXboF7s3uLP-"
      }
    },
    {
      "cell_type": "code",
      "source": [
        "fitted_data, fitted_lambda = stats.boxcox(y_train)\n",
        "Xc=sm.add_constant(X_train)\n",
        "model6= sm.OLS(fitted_data,Xc).fit(cov_type='HAC',cov_kwds={'maxlags':1})\n",
        "print(model6.summary())"
      ],
      "metadata": {
        "id": "TNINo9Fw6J6G"
      },
      "execution_count": null,
      "outputs": []
    },
    {
      "cell_type": "markdown",
      "source": [
        "## Predictions"
      ],
      "metadata": {
        "id": "jGv9d2NDfj88"
      }
    },
    {
      "cell_type": "code",
      "source": [
        "from scipy.special import inv_boxcox\n",
        "Xc=sm.add_constant(X_test)\n",
        "predictions = model6.predict(Xc)\n",
        "y_pred = inv_boxcox(predictions, lmbda)\n",
        "y_pred=np.around(y_pred)\n",
        "y_pred=y_pred.astype(int)"
      ],
      "metadata": {
        "id": "VwMAKwmtxb1h"
      },
      "execution_count": null,
      "outputs": []
    },
    {
      "cell_type": "code",
      "source": [
        "#visualizing predicted values\n",
        "y_pred"
      ],
      "metadata": {
        "id": "TX6tseo3siHd"
      },
      "execution_count": null,
      "outputs": []
    },
    {
      "cell_type": "code",
      "source": [
        "# error metrices"
      ],
      "metadata": {
        "id": "0if-lv1_9Lby"
      },
      "execution_count": null,
      "outputs": []
    },
    {
      "cell_type": "code",
      "source": [
        "#Defining MAPE function\n",
        "def MAPE(Y_actual,Y_Predicted):\n",
        "    mape = np.mean(np.abs((Y_actual - Y_Predicted)/Y_actual))*100\n",
        "    return mape"
      ],
      "metadata": {
        "id": "pRBRhmO7jwzn"
      },
      "execution_count": null,
      "outputs": []
    },
    {
      "cell_type": "code",
      "source": [
        "#Defining MADP function\n",
        "def MADP(Y_actual,Y_Predicted):\n",
        "  madp = (np.mean(np.abs(Y_actual - Y_Predicted))/np.mean(Y_actual))*100\n",
        "  return madp"
      ],
      "metadata": {
        "id": "v4kwQ7wLsLrx"
      },
      "execution_count": null,
      "outputs": []
    },
    {
      "cell_type": "code",
      "source": [
        "#Defining CERRPCT function\n",
        "def CERRPCT(Y_actual,Y_Predicted):\n",
        "  cerrpct = (np.mean(Y_actual - Y_Predicted)/np.mean(Y_actual))*100\n",
        "  return cerrpct"
      ],
      "metadata": {
        "id": "4ntcHaGhLkGq"
      },
      "execution_count": null,
      "outputs": []
    },
    {
      "cell_type": "code",
      "source": [
        "MAPE(y_test, y_pred)"
      ],
      "metadata": {
        "id": "gvBVxF2Hj44_"
      },
      "execution_count": null,
      "outputs": []
    },
    {
      "cell_type": "code",
      "source": [
        "MADP(y_test, y_pred)"
      ],
      "metadata": {
        "id": "NfPFWDrwWxrQ"
      },
      "execution_count": null,
      "outputs": []
    },
    {
      "cell_type": "code",
      "source": [
        "CERRPCT(y_test, y_pred)"
      ],
      "metadata": {
        "id": "q0Bpmv6QL7Ip"
      },
      "execution_count": null,
      "outputs": []
    },
    {
      "cell_type": "markdown",
      "source": [
        "# Ridge Regression"
      ],
      "metadata": {
        "id": "rAxG5_L4R6ph"
      }
    },
    {
      "cell_type": "markdown",
      "source": [
        "## Model fitting"
      ],
      "metadata": {
        "id": "rCFXmzEmN0QP"
      }
    },
    {
      "cell_type": "code",
      "source": [
        "day_ridge = pd.get_dummies(day, columns=['season','holiday','workingday','weather'], drop_first=True)"
      ],
      "metadata": {
        "id": "Vdzz64sA_yuu"
      },
      "execution_count": null,
      "outputs": []
    },
    {
      "cell_type": "code",
      "source": [
        "# Create a training and test split for day data\n",
        "X = day_ridge.drop('count',axis=1)\n",
        "y = day_ridge['count']\n",
        "X_train = X['2011-01-01':'2012-08-06']\n",
        "X_test = X['2012-08-07':'2012-12-31']\n",
        "y_train = y['2011-01-01':'2012-08-06']\n",
        "#y_test = y.drop(y_train.index, inplace=True)\n",
        "y_test = y['2012-08-07':'2012-12-31']"
      ],
      "metadata": {
        "id": "71L7N_JoIE13"
      },
      "execution_count": null,
      "outputs": []
    },
    {
      "cell_type": "code",
      "source": [
        "data=X_train\n",
        "data['count']=y_train\n",
        "cooks_df = data.merge(influence_df, left_index=True, right_index=True)"
      ],
      "metadata": {
        "id": "bV6yQTAA_yuv"
      },
      "execution_count": null,
      "outputs": []
    },
    {
      "cell_type": "code",
      "source": [
        "# Setting the threshold and getting the outliers\n",
        "cooks_threshold = 4/584\n",
        "cooks_outliers = cooks_df[cooks_df[\"influence\"] > cooks_threshold]\n",
        "cooks_df.drop(cooks_outliers.index, inplace=True)\n",
        "print(\"Removed:\", len(cooks_outliers))\n",
        "print(f\"This is {len(cooks_outliers) / 584 * 100:.3}% of our dataset\")"
      ],
      "metadata": {
        "id": "E2j5Qkr-cgZc"
      },
      "execution_count": null,
      "outputs": []
    },
    {
      "cell_type": "code",
      "source": [
        "X_train=cooks_df.drop(['count', 'influence'], axis=1)\n",
        "y_train=cooks_df['count']"
      ],
      "metadata": {
        "id": "nCkBzJx7cwAK"
      },
      "execution_count": null,
      "outputs": []
    },
    {
      "cell_type": "code",
      "source": [
        "# fitting rigde model\n",
        "from sklearn.linear_model import Ridge\n",
        "from sklearn.model_selection import GridSearchCV\n",
        "param_grid = {'alpha': (np.logspace(-8, 8, 1000))} # It will check from 1e-08 to 1e+08\n",
        "ridge = Ridge(normalize=True)\n",
        "ridge_cv = GridSearchCV(ridge, param_grid, cv=10)\n",
        "ridge_cv.fit(X_train, y_train)\n",
        "print(ridge_cv.best_params_)\n",
        "print(ridge_cv.best_score_)"
      ],
      "metadata": {
        "id": "O98BJ5kr0jQ4"
      },
      "execution_count": null,
      "outputs": []
    },
    {
      "cell_type": "markdown",
      "source": [
        "## Predictions"
      ],
      "metadata": {
        "id": "lOnT9kn9O1II"
      }
    },
    {
      "cell_type": "code",
      "source": [
        "# Calculate the predicted value for training and test dataset\n",
        "from sklearn.metrics import r2_score\n",
        "\n",
        "y_train_pred = ridge_cv.predict(X_train)\n",
        "y_test_pred = ridge_cv.predict(X_test)\n",
        "print('R^2 : %.3f' % (r2_score(y_train, y_train_pred)))"
      ],
      "metadata": {
        "id": "zU2BtF5vcqPd"
      },
      "execution_count": null,
      "outputs": []
    },
    {
      "cell_type": "code",
      "source": [
        "y_test=y_test.to_frame()"
      ],
      "metadata": {
        "id": "kgrW03WSz0Z1"
      },
      "execution_count": null,
      "outputs": []
    },
    {
      "cell_type": "code",
      "source": [
        "y_test['Predictions']=y_test_pred\n",
        "y_test['Predictions']"
      ],
      "metadata": {
        "id": "anzYCA2UzpDl"
      },
      "execution_count": null,
      "outputs": []
    },
    {
      "cell_type": "code",
      "source": [
        "y_pred=np.around(y_test_pred)\n",
        "y_pred=y_pred.astype(int)"
      ],
      "metadata": {
        "id": "tmRv1dXSKzKC"
      },
      "execution_count": null,
      "outputs": []
    },
    {
      "cell_type": "code",
      "source": [
        "#Calculating error matrices"
      ],
      "metadata": {
        "id": "uc-wZ1Cn8u8f"
      },
      "execution_count": null,
      "outputs": []
    },
    {
      "cell_type": "code",
      "source": [
        "MAPE(y_test, y_pred)"
      ],
      "metadata": {
        "id": "lgK_Eh5zkL-g"
      },
      "execution_count": null,
      "outputs": []
    },
    {
      "cell_type": "code",
      "source": [
        "MADP(y_test, y_pred)"
      ],
      "metadata": {
        "id": "Ecu9TaDLOFrS"
      },
      "execution_count": null,
      "outputs": []
    },
    {
      "cell_type": "code",
      "source": [
        "CERRPCT(y_test, y_pred)"
      ],
      "metadata": {
        "id": "mYmyUxmHOLis"
      },
      "execution_count": null,
      "outputs": []
    }
  ]
}